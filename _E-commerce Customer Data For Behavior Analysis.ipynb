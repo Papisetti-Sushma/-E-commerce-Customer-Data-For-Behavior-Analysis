{
 "cells": [
  {
   "cell_type": "code",
   "execution_count": 1,
   "id": "21fa67b1-75f2-49bd-94e6-12c446e19de2",
   "metadata": {},
   "outputs": [],
   "source": [
    "import numpy as np \n",
    "import pandas as pd \n",
    "import matplotlib.pyplot as plt \n",
    "import seaborn as sns"
   ]
  },
  {
   "cell_type": "code",
   "execution_count": 2,
   "id": "69db5aec-553f-4bf4-a1c4-596723e0ad97",
   "metadata": {},
   "outputs": [],
   "source": [
    "data=pd.read_csv(r\"ecommerce_customer_data_large.csv\")"
   ]
  },
  {
   "cell_type": "code",
   "execution_count": 7,
   "id": "d89ad8a0-7d1e-4327-a7ef-c9c56628a1f5",
   "metadata": {},
   "outputs": [
    {
     "data": {
      "text/html": [
       "<div>\n",
       "<style scoped>\n",
       "    .dataframe tbody tr th:only-of-type {\n",
       "        vertical-align: middle;\n",
       "    }\n",
       "\n",
       "    .dataframe tbody tr th {\n",
       "        vertical-align: top;\n",
       "    }\n",
       "\n",
       "    .dataframe thead th {\n",
       "        text-align: right;\n",
       "    }\n",
       "</style>\n",
       "<table border=\"1\" class=\"dataframe\">\n",
       "  <thead>\n",
       "    <tr style=\"text-align: right;\">\n",
       "      <th></th>\n",
       "      <th>Customer ID</th>\n",
       "      <th>Purchase Date</th>\n",
       "      <th>Product Category</th>\n",
       "      <th>Product Price</th>\n",
       "      <th>Quantity</th>\n",
       "      <th>Total Purchase Amount</th>\n",
       "      <th>Payment Method</th>\n",
       "      <th>Customer Age</th>\n",
       "      <th>Returns</th>\n",
       "      <th>Customer Name</th>\n",
       "      <th>Age</th>\n",
       "      <th>Gender</th>\n",
       "      <th>Churn</th>\n",
       "    </tr>\n",
       "  </thead>\n",
       "  <tbody>\n",
       "    <tr>\n",
       "      <th>0</th>\n",
       "      <td>44605</td>\n",
       "      <td>2023-05-03 21:30:02</td>\n",
       "      <td>Home</td>\n",
       "      <td>177</td>\n",
       "      <td>1</td>\n",
       "      <td>2427</td>\n",
       "      <td>PayPal</td>\n",
       "      <td>31</td>\n",
       "      <td>1.0</td>\n",
       "      <td>John Rivera</td>\n",
       "      <td>31</td>\n",
       "      <td>Female</td>\n",
       "      <td>0</td>\n",
       "    </tr>\n",
       "    <tr>\n",
       "      <th>1</th>\n",
       "      <td>44605</td>\n",
       "      <td>2021-05-16 13:57:44</td>\n",
       "      <td>Electronics</td>\n",
       "      <td>174</td>\n",
       "      <td>3</td>\n",
       "      <td>2448</td>\n",
       "      <td>PayPal</td>\n",
       "      <td>31</td>\n",
       "      <td>1.0</td>\n",
       "      <td>John Rivera</td>\n",
       "      <td>31</td>\n",
       "      <td>Female</td>\n",
       "      <td>0</td>\n",
       "    </tr>\n",
       "    <tr>\n",
       "      <th>2</th>\n",
       "      <td>44605</td>\n",
       "      <td>2020-07-13 06:16:57</td>\n",
       "      <td>Books</td>\n",
       "      <td>413</td>\n",
       "      <td>1</td>\n",
       "      <td>2345</td>\n",
       "      <td>Credit Card</td>\n",
       "      <td>31</td>\n",
       "      <td>1.0</td>\n",
       "      <td>John Rivera</td>\n",
       "      <td>31</td>\n",
       "      <td>Female</td>\n",
       "      <td>0</td>\n",
       "    </tr>\n",
       "    <tr>\n",
       "      <th>3</th>\n",
       "      <td>44605</td>\n",
       "      <td>2023-01-17 13:14:36</td>\n",
       "      <td>Electronics</td>\n",
       "      <td>396</td>\n",
       "      <td>3</td>\n",
       "      <td>937</td>\n",
       "      <td>Cash</td>\n",
       "      <td>31</td>\n",
       "      <td>0.0</td>\n",
       "      <td>John Rivera</td>\n",
       "      <td>31</td>\n",
       "      <td>Female</td>\n",
       "      <td>0</td>\n",
       "    </tr>\n",
       "    <tr>\n",
       "      <th>4</th>\n",
       "      <td>44605</td>\n",
       "      <td>2021-05-01 11:29:27</td>\n",
       "      <td>Books</td>\n",
       "      <td>259</td>\n",
       "      <td>4</td>\n",
       "      <td>2598</td>\n",
       "      <td>PayPal</td>\n",
       "      <td>31</td>\n",
       "      <td>1.0</td>\n",
       "      <td>John Rivera</td>\n",
       "      <td>31</td>\n",
       "      <td>Female</td>\n",
       "      <td>0</td>\n",
       "    </tr>\n",
       "  </tbody>\n",
       "</table>\n",
       "</div>"
      ],
      "text/plain": [
       "   Customer ID        Purchase Date Product Category  Product Price  Quantity  \\\n",
       "0        44605  2023-05-03 21:30:02             Home            177         1   \n",
       "1        44605  2021-05-16 13:57:44      Electronics            174         3   \n",
       "2        44605  2020-07-13 06:16:57            Books            413         1   \n",
       "3        44605  2023-01-17 13:14:36      Electronics            396         3   \n",
       "4        44605  2021-05-01 11:29:27            Books            259         4   \n",
       "\n",
       "   Total Purchase Amount Payment Method  Customer Age  Returns Customer Name  \\\n",
       "0                   2427         PayPal            31      1.0   John Rivera   \n",
       "1                   2448         PayPal            31      1.0   John Rivera   \n",
       "2                   2345    Credit Card            31      1.0   John Rivera   \n",
       "3                    937           Cash            31      0.0   John Rivera   \n",
       "4                   2598         PayPal            31      1.0   John Rivera   \n",
       "\n",
       "   Age  Gender  Churn  \n",
       "0   31  Female      0  \n",
       "1   31  Female      0  \n",
       "2   31  Female      0  \n",
       "3   31  Female      0  \n",
       "4   31  Female      0  "
      ]
     },
     "execution_count": 7,
     "metadata": {},
     "output_type": "execute_result"
    }
   ],
   "source": [
    "data.head()"
   ]
  },
  {
   "cell_type": "code",
   "execution_count": 4,
   "id": "82058331-4d33-41b6-8857-9a0b8b3ab9fb",
   "metadata": {},
   "outputs": [
    {
     "data": {
      "text/plain": [
       "Customer ID              False\n",
       "Purchase Date            False\n",
       "Product Category         False\n",
       "Product Price            False\n",
       "Quantity                 False\n",
       "Total Purchase Amount    False\n",
       "Payment Method           False\n",
       "Customer Age             False\n",
       "Returns                   True\n",
       "Customer Name            False\n",
       "Age                      False\n",
       "Gender                   False\n",
       "Churn                    False\n",
       "dtype: bool"
      ]
     },
     "execution_count": 4,
     "metadata": {},
     "output_type": "execute_result"
    }
   ],
   "source": [
    "data.isnull().any()"
   ]
  },
  {
   "cell_type": "code",
   "execution_count": 5,
   "id": "8dd8def9-7c10-422c-8c41-b1d957145883",
   "metadata": {},
   "outputs": [
    {
     "data": {
      "text/plain": [
       "Customer ID                  0\n",
       "Purchase Date                0\n",
       "Product Category             0\n",
       "Product Price                0\n",
       "Quantity                     0\n",
       "Total Purchase Amount        0\n",
       "Payment Method               0\n",
       "Customer Age                 0\n",
       "Returns                  47382\n",
       "Customer Name                0\n",
       "Age                          0\n",
       "Gender                       0\n",
       "Churn                        0\n",
       "dtype: int64"
      ]
     },
     "execution_count": 5,
     "metadata": {},
     "output_type": "execute_result"
    }
   ],
   "source": [
    "data.isnull().sum()"
   ]
  },
  {
   "cell_type": "code",
   "execution_count": 6,
   "id": "4ef00803-251c-4c3d-b590-aa59b4dac7ce",
   "metadata": {},
   "outputs": [
    {
     "name": "stdout",
     "output_type": "stream",
     "text": [
      "1.0\n"
     ]
    }
   ],
   "source": [
    "median=data['Returns'].median()\n",
    "print(median)"
   ]
  },
  {
   "cell_type": "code",
   "execution_count": 7,
   "id": "5de73539-ddc2-4eba-b2ec-d6ed050455b7",
   "metadata": {},
   "outputs": [],
   "source": [
    "data1 = data.fillna(median)"
   ]
  },
  {
   "cell_type": "code",
   "execution_count": 8,
   "id": "df88cf3f-d9c1-4fb2-8c69-d89d6f9cf319",
   "metadata": {},
   "outputs": [
    {
     "data": {
      "text/plain": [
       "Customer ID                  0\n",
       "Purchase Date                0\n",
       "Product Category             0\n",
       "Product Price                0\n",
       "Quantity                     0\n",
       "Total Purchase Amount        0\n",
       "Payment Method               0\n",
       "Customer Age                 0\n",
       "Returns                  47382\n",
       "Customer Name                0\n",
       "Age                          0\n",
       "Gender                       0\n",
       "Churn                        0\n",
       "dtype: int64"
      ]
     },
     "execution_count": 8,
     "metadata": {},
     "output_type": "execute_result"
    }
   ],
   "source": [
    "data.isnull().sum()"
   ]
  },
  {
   "cell_type": "markdown",
   "id": "8d793c44-7319-423f-b7b7-d41d93bd178c",
   "metadata": {},
   "source": [
    "# 1.What are the trends in total purchase amount over time (based on Purchase Date)? Are there any seasonal patterns?"
   ]
  },
  {
   "cell_type": "code",
   "execution_count": 9,
   "id": "5e3a3df7-8153-4237-9145-42589b6dafcb",
   "metadata": {},
   "outputs": [],
   "source": [
    "data=pd.read_csv(r\"ecommerce_customer_data_large.csv\",usecols=['Purchase Date','Total Purchase Amount'])"
   ]
  },
  {
   "cell_type": "code",
   "execution_count": 11,
   "id": "b80fea2a-bda5-4efe-8358-2f13085ce6e5",
   "metadata": {},
   "outputs": [
    {
     "data": {
      "text/html": [
       "<div>\n",
       "<style scoped>\n",
       "    .dataframe tbody tr th:only-of-type {\n",
       "        vertical-align: middle;\n",
       "    }\n",
       "\n",
       "    .dataframe tbody tr th {\n",
       "        vertical-align: top;\n",
       "    }\n",
       "\n",
       "    .dataframe thead th {\n",
       "        text-align: right;\n",
       "    }\n",
       "</style>\n",
       "<table border=\"1\" class=\"dataframe\">\n",
       "  <thead>\n",
       "    <tr style=\"text-align: right;\">\n",
       "      <th></th>\n",
       "      <th>Total Purchase Amount</th>\n",
       "    </tr>\n",
       "    <tr>\n",
       "      <th>Purchase Date</th>\n",
       "      <th></th>\n",
       "    </tr>\n",
       "  </thead>\n",
       "  <tbody>\n",
       "    <tr>\n",
       "      <th>2023-09-05 09:42:43</th>\n",
       "      <td>9996</td>\n",
       "    </tr>\n",
       "    <tr>\n",
       "      <th>2021-12-23 23:04:51</th>\n",
       "      <td>9976</td>\n",
       "    </tr>\n",
       "    <tr>\n",
       "      <th>2020-07-08 23:36:29</th>\n",
       "      <td>9870</td>\n",
       "    </tr>\n",
       "    <tr>\n",
       "      <th>2020-05-08 21:02:41</th>\n",
       "      <td>9808</td>\n",
       "    </tr>\n",
       "    <tr>\n",
       "      <th>2022-04-05 17:11:15</th>\n",
       "      <td>9626</td>\n",
       "    </tr>\n",
       "    <tr>\n",
       "      <th>...</th>\n",
       "      <td>...</td>\n",
       "    </tr>\n",
       "    <tr>\n",
       "      <th>2020-03-13 02:18:59</th>\n",
       "      <td>102</td>\n",
       "    </tr>\n",
       "    <tr>\n",
       "      <th>2020-05-12 15:20:04</th>\n",
       "      <td>102</td>\n",
       "    </tr>\n",
       "    <tr>\n",
       "      <th>2023-04-24 18:19:21</th>\n",
       "      <td>101</td>\n",
       "    </tr>\n",
       "    <tr>\n",
       "      <th>2020-10-05 07:47:46</th>\n",
       "      <td>100</td>\n",
       "    </tr>\n",
       "    <tr>\n",
       "      <th>2022-12-07 05:00:08</th>\n",
       "      <td>100</td>\n",
       "    </tr>\n",
       "  </tbody>\n",
       "</table>\n",
       "<p>249728 rows × 1 columns</p>\n",
       "</div>"
      ],
      "text/plain": [
       "                     Total Purchase Amount\n",
       "Purchase Date                             \n",
       "2023-09-05 09:42:43                   9996\n",
       "2021-12-23 23:04:51                   9976\n",
       "2020-07-08 23:36:29                   9870\n",
       "2020-05-08 21:02:41                   9808\n",
       "2022-04-05 17:11:15                   9626\n",
       "...                                    ...\n",
       "2020-03-13 02:18:59                    102\n",
       "2020-05-12 15:20:04                    102\n",
       "2023-04-24 18:19:21                    101\n",
       "2020-10-05 07:47:46                    100\n",
       "2022-12-07 05:00:08                    100\n",
       "\n",
       "[249728 rows x 1 columns]"
      ]
     },
     "execution_count": 11,
     "metadata": {},
     "output_type": "execute_result"
    }
   ],
   "source": [
    "result = data.groupby('Purchase Date').sum()\n",
    "result.sort_values(by='Total Purchase Amount', ascending=False)"
   ]
  },
  {
   "cell_type": "markdown",
   "id": "e0fccfad-6091-419c-88a8-9fa2280ecba8",
   "metadata": {},
   "source": [
    "- there is no seasonal trends "
   ]
  },
  {
   "cell_type": "markdown",
   "id": "d8daa883-054c-4248-bc6e-d253d390f2cd",
   "metadata": {},
   "source": [
    "# 2.Which product categories generate the highest revenue and which are the most popular based on quantity purchased?"
   ]
  },
  {
   "cell_type": "code",
   "execution_count": 13,
   "id": "9665fc53-c1ad-4888-864d-6a6d1dcbf256",
   "metadata": {},
   "outputs": [],
   "source": [
    "data=pd.read_csv(r\"ecommerce_customer_data_large.csv\")"
   ]
  },
  {
   "cell_type": "code",
   "execution_count": 15,
   "id": "72e45863-d30c-468b-8bbe-214e3754cfbc",
   "metadata": {},
   "outputs": [
    {
     "data": {
      "text/html": [
       "<div>\n",
       "<style scoped>\n",
       "    .dataframe tbody tr th:only-of-type {\n",
       "        vertical-align: middle;\n",
       "    }\n",
       "\n",
       "    .dataframe tbody tr th {\n",
       "        vertical-align: top;\n",
       "    }\n",
       "\n",
       "    .dataframe thead th {\n",
       "        text-align: right;\n",
       "    }\n",
       "</style>\n",
       "<table border=\"1\" class=\"dataframe\">\n",
       "  <thead>\n",
       "    <tr style=\"text-align: right;\">\n",
       "      <th></th>\n",
       "      <th>Customer ID</th>\n",
       "      <th>Purchase Date</th>\n",
       "      <th>Product Category</th>\n",
       "      <th>Product Price</th>\n",
       "      <th>Quantity</th>\n",
       "      <th>Total Purchase Amount</th>\n",
       "      <th>Payment Method</th>\n",
       "      <th>Customer Age</th>\n",
       "      <th>Returns</th>\n",
       "      <th>Customer Name</th>\n",
       "      <th>Age</th>\n",
       "      <th>Gender</th>\n",
       "      <th>Churn</th>\n",
       "    </tr>\n",
       "  </thead>\n",
       "  <tbody>\n",
       "    <tr>\n",
       "      <th>0</th>\n",
       "      <td>44605</td>\n",
       "      <td>2023-05-03 21:30:02</td>\n",
       "      <td>Home</td>\n",
       "      <td>177</td>\n",
       "      <td>1</td>\n",
       "      <td>2427</td>\n",
       "      <td>PayPal</td>\n",
       "      <td>31</td>\n",
       "      <td>1.0</td>\n",
       "      <td>John Rivera</td>\n",
       "      <td>31</td>\n",
       "      <td>Female</td>\n",
       "      <td>0</td>\n",
       "    </tr>\n",
       "  </tbody>\n",
       "</table>\n",
       "</div>"
      ],
      "text/plain": [
       "   Customer ID        Purchase Date Product Category  Product Price  Quantity  \\\n",
       "0        44605  2023-05-03 21:30:02             Home            177         1   \n",
       "\n",
       "   Total Purchase Amount Payment Method  Customer Age  Returns Customer Name  \\\n",
       "0                   2427         PayPal            31      1.0   John Rivera   \n",
       "\n",
       "   Age  Gender  Churn  \n",
       "0   31  Female      0  "
      ]
     },
     "execution_count": 15,
     "metadata": {},
     "output_type": "execute_result"
    }
   ],
   "source": [
    "data.head(1)"
   ]
  },
  {
   "cell_type": "code",
   "execution_count": 17,
   "id": "e0037569-478b-4f01-8c20-ace6f3821015",
   "metadata": {},
   "outputs": [
    {
     "data": {
      "text/plain": [
       "Product Category\n",
       "Electronics    62630\n",
       "Clothing       62581\n",
       "Home           62542\n",
       "Books          62247\n",
       "Name: count, dtype: int64"
      ]
     },
     "execution_count": 17,
     "metadata": {},
     "output_type": "execute_result"
    }
   ],
   "source": [
    "data['Product Category'].value_counts()"
   ]
  },
  {
   "cell_type": "markdown",
   "id": "931860b1-920c-42ab-8130-94bf323513b2",
   "metadata": {},
   "source": [
    "- Electronics is generating highest revenue "
   ]
  },
  {
   "cell_type": "code",
   "execution_count": 22,
   "id": "01e9b2ad-8d1b-4c44-8f9b-c5c9f003a6fc",
   "metadata": {},
   "outputs": [],
   "source": [
    "data=pd.read_csv(r\"ecommerce_customer_data_large.csv\",usecols=['Product Category','Quantity'])"
   ]
  },
  {
   "cell_type": "code",
   "execution_count": 26,
   "id": "2687ce33-1e77-48ed-bfc4-7622a7b63631",
   "metadata": {},
   "outputs": [
    {
     "data": {
      "text/html": [
       "<div>\n",
       "<style scoped>\n",
       "    .dataframe tbody tr th:only-of-type {\n",
       "        vertical-align: middle;\n",
       "    }\n",
       "\n",
       "    .dataframe tbody tr th {\n",
       "        vertical-align: top;\n",
       "    }\n",
       "\n",
       "    .dataframe thead th {\n",
       "        text-align: right;\n",
       "    }\n",
       "</style>\n",
       "<table border=\"1\" class=\"dataframe\">\n",
       "  <thead>\n",
       "    <tr style=\"text-align: right;\">\n",
       "      <th></th>\n",
       "      <th>Quantity</th>\n",
       "    </tr>\n",
       "    <tr>\n",
       "      <th>Product Category</th>\n",
       "      <th></th>\n",
       "    </tr>\n",
       "  </thead>\n",
       "  <tbody>\n",
       "    <tr>\n",
       "      <th>Clothing</th>\n",
       "      <td>188688</td>\n",
       "    </tr>\n",
       "    <tr>\n",
       "      <th>Home</th>\n",
       "      <td>188077</td>\n",
       "    </tr>\n",
       "    <tr>\n",
       "      <th>Electronics</th>\n",
       "      <td>187861</td>\n",
       "    </tr>\n",
       "    <tr>\n",
       "      <th>Books</th>\n",
       "      <td>186608</td>\n",
       "    </tr>\n",
       "  </tbody>\n",
       "</table>\n",
       "</div>"
      ],
      "text/plain": [
       "                  Quantity\n",
       "Product Category          \n",
       "Clothing            188688\n",
       "Home                188077\n",
       "Electronics         187861\n",
       "Books               186608"
      ]
     },
     "execution_count": 26,
     "metadata": {},
     "output_type": "execute_result"
    }
   ],
   "source": [
    "result = data.groupby('Product Category').sum()\n",
    "result.sort_values(by='Quantity', ascending=False)"
   ]
  },
  {
   "cell_type": "markdown",
   "id": "f9cf445f-b0fc-4703-9c5b-42d2e7c5cb07",
   "metadata": {},
   "source": [
    "- The most popular based on quantity is Clothing\n",
    "- after that it is Home "
   ]
  },
  {
   "cell_type": "markdown",
   "id": "68dc2805-f0e6-4c17-af0d-7e5167e112c8",
   "metadata": {},
   "source": [
    "# 3.What are the most popular payment methods, and how do they relate to the total purchase amount or frequency of purchases?"
   ]
  },
  {
   "cell_type": "code",
   "execution_count": 51,
   "id": "4b9c4042-0890-4b32-9c3c-04ca332e6805",
   "metadata": {},
   "outputs": [],
   "source": [
    "data=pd.read_csv(r\"ecommerce_customer_data_large.csv\")"
   ]
  },
  {
   "cell_type": "code",
   "execution_count": 53,
   "id": "3790ca15-0983-499d-a624-27557912f9f2",
   "metadata": {},
   "outputs": [
    {
     "data": {
      "text/plain": [
       "Payment Method\n",
       "Credit Card    83547\n",
       "PayPal         83441\n",
       "Cash           83012\n",
       "Name: count, dtype: int64"
      ]
     },
     "execution_count": 53,
     "metadata": {},
     "output_type": "execute_result"
    }
   ],
   "source": [
    "data['Payment Method'].value_counts()"
   ]
  },
  {
   "cell_type": "markdown",
   "id": "ae9d71e9-b7c1-4ebe-9da1-84d34ff0c91d",
   "metadata": {},
   "source": [
    "- Most popular payment method is Credit card"
   ]
  },
  {
   "cell_type": "code",
   "execution_count": 80,
   "id": "bdcc23cc-edd1-46dd-ba35-43ff241da89c",
   "metadata": {},
   "outputs": [
    {
     "data": {
      "text/plain": [
       "<Axes: xlabel='Payment Method', ylabel='Total Purchase Amount'>"
      ]
     },
     "execution_count": 80,
     "metadata": {},
     "output_type": "execute_result"
    },
    {
     "data": {
      "image/png": "[encoded data removed]",
      "text/plain": [
       "<Figure size 640x480 with 1 Axes>"
      ]
     },
     "metadata": {},
     "output_type": "display_data"
    }
   ],
   "source": [
    "sns.lineplot(data=data, x='Payment Method', y=\"Total Purchase Amount\")"
   ]
  },
  {
   "cell_type": "markdown",
   "id": "f9171457-9536-47db-99d1-e49ae86d5f38",
   "metadata": {},
   "source": [
    "- using credit card the most payments are done\n",
    "- there no much difference in different payment methods\n",
    "- but the most popular is Credit card "
   ]
  },
  {
   "cell_type": "markdown",
   "id": "6d38b298-571a-41bc-bd34-255d174d6be0",
   "metadata": {},
   "source": [
    "# 4.Who are the top customers by total purchase amount or frequency, based on Customer ID and Customer Name?"
   ]
  },
  {
   "cell_type": "code",
   "execution_count": 28,
   "id": "833624a9-9d1b-4839-a902-e121e1757fa4",
   "metadata": {},
   "outputs": [],
   "source": [
    "data=pd.read_csv(r\"ecommerce_customer_data_large.csv\",usecols=['Total Purchase Amount','Customer ID','Customer Name'])"
   ]
  },
  {
   "cell_type": "code",
   "execution_count": 30,
   "id": "c0f3178a-bf46-4d54-aaf9-5fce463fe702",
   "metadata": {},
   "outputs": [
    {
     "data": {
      "text/html": [
       "<div>\n",
       "<style scoped>\n",
       "    .dataframe tbody tr th:only-of-type {\n",
       "        vertical-align: middle;\n",
       "    }\n",
       "\n",
       "    .dataframe tbody tr th {\n",
       "        vertical-align: top;\n",
       "    }\n",
       "\n",
       "    .dataframe thead th {\n",
       "        text-align: right;\n",
       "    }\n",
       "</style>\n",
       "<table border=\"1\" class=\"dataframe\">\n",
       "  <thead>\n",
       "    <tr style=\"text-align: right;\">\n",
       "      <th></th>\n",
       "      <th>Customer ID</th>\n",
       "      <th>Total Purchase Amount</th>\n",
       "      <th>Customer Name</th>\n",
       "    </tr>\n",
       "  </thead>\n",
       "  <tbody>\n",
       "    <tr>\n",
       "      <th>0</th>\n",
       "      <td>44605</td>\n",
       "      <td>2427</td>\n",
       "      <td>John Rivera</td>\n",
       "    </tr>\n",
       "  </tbody>\n",
       "</table>\n",
       "</div>"
      ],
      "text/plain": [
       "   Customer ID  Total Purchase Amount Customer Name\n",
       "0        44605                   2427   John Rivera"
      ]
     },
     "execution_count": 30,
     "metadata": {},
     "output_type": "execute_result"
    }
   ],
   "source": [
    "data.head(1)"
   ]
  },
  {
   "cell_type": "code",
   "execution_count": 32,
   "id": "fae8bad1-1f38-4aa4-b152-cf08a0c8bc01",
   "metadata": {},
   "outputs": [
    {
     "data": {
      "text/html": [
       "<div>\n",
       "<style scoped>\n",
       "    .dataframe tbody tr th:only-of-type {\n",
       "        vertical-align: middle;\n",
       "    }\n",
       "\n",
       "    .dataframe tbody tr th {\n",
       "        vertical-align: top;\n",
       "    }\n",
       "\n",
       "    .dataframe thead th {\n",
       "        text-align: right;\n",
       "    }\n",
       "</style>\n",
       "<table border=\"1\" class=\"dataframe\">\n",
       "  <thead>\n",
       "    <tr style=\"text-align: right;\">\n",
       "      <th></th>\n",
       "      <th>Customer ID</th>\n",
       "      <th>Customer Name</th>\n",
       "    </tr>\n",
       "    <tr>\n",
       "      <th>Total Purchase Amount</th>\n",
       "      <th></th>\n",
       "      <th></th>\n",
       "    </tr>\n",
       "  </thead>\n",
       "  <tbody>\n",
       "    <tr>\n",
       "      <th>100</th>\n",
       "      <td>60040</td>\n",
       "      <td>Ashley HallThomas Cole</td>\n",
       "    </tr>\n",
       "    <tr>\n",
       "      <th>101</th>\n",
       "      <td>43189</td>\n",
       "      <td>Laura Rios</td>\n",
       "    </tr>\n",
       "    <tr>\n",
       "      <th>102</th>\n",
       "      <td>43270</td>\n",
       "      <td>Lisa JacksonLori Yu</td>\n",
       "    </tr>\n",
       "    <tr>\n",
       "      <th>103</th>\n",
       "      <td>51</td>\n",
       "      <td>Colleen Pace</td>\n",
       "    </tr>\n",
       "    <tr>\n",
       "      <th>104</th>\n",
       "      <td>29079</td>\n",
       "      <td>James Welch</td>\n",
       "    </tr>\n",
       "    <tr>\n",
       "      <th>...</th>\n",
       "      <td>...</td>\n",
       "      <td>...</td>\n",
       "    </tr>\n",
       "    <tr>\n",
       "      <th>5345</th>\n",
       "      <td>58828</td>\n",
       "      <td>Kevin RomanMary Johnson</td>\n",
       "    </tr>\n",
       "    <tr>\n",
       "      <th>5346</th>\n",
       "      <td>461</td>\n",
       "      <td>Theresa Hunt</td>\n",
       "    </tr>\n",
       "    <tr>\n",
       "      <th>5348</th>\n",
       "      <td>25539</td>\n",
       "      <td>Jeremiah Barnes</td>\n",
       "    </tr>\n",
       "    <tr>\n",
       "      <th>5349</th>\n",
       "      <td>79161</td>\n",
       "      <td>David PatrickKyle JacksonJoan Carson</td>\n",
       "    </tr>\n",
       "    <tr>\n",
       "      <th>5350</th>\n",
       "      <td>259</td>\n",
       "      <td>Gary White</td>\n",
       "    </tr>\n",
       "  </tbody>\n",
       "</table>\n",
       "<p>5245 rows × 2 columns</p>\n",
       "</div>"
      ],
      "text/plain": [
       "                       Customer ID                         Customer Name\n",
       "Total Purchase Amount                                                   \n",
       "100                          60040                Ashley HallThomas Cole\n",
       "101                          43189                            Laura Rios\n",
       "102                          43270                   Lisa JacksonLori Yu\n",
       "103                             51                          Colleen Pace\n",
       "104                          29079                           James Welch\n",
       "...                            ...                                   ...\n",
       "5345                         58828               Kevin RomanMary Johnson\n",
       "5346                           461                          Theresa Hunt\n",
       "5348                         25539                       Jeremiah Barnes\n",
       "5349                         79161  David PatrickKyle JacksonJoan Carson\n",
       "5350                           259                            Gary White\n",
       "\n",
       "[5245 rows x 2 columns]"
      ]
     },
     "execution_count": 32,
     "metadata": {},
     "output_type": "execute_result"
    }
   ],
   "source": [
    "data.groupby('Total Purchase Amount').sum()"
   ]
  },
  {
   "cell_type": "markdown",
   "id": "d7a34f6f-f0ff-4367-ae32-31b3695f1cff",
   "metadata": {},
   "source": [
    "- As you can see The top 5 constumers by Total Purchase Amount based on Customer ID and Customer Name are:\n",
    "1. Gary White customer ID is 259 and the total amount is 5350\n",
    "2. David PatrickKyle JacksonJoan Carson , customer ID is 79161 and the total amount is 5349\n",
    "3. Jeremiah Barnes , customer ID is 25539 and the total amount is 5348\n",
    "4. Theresa Hunt , customer ID 461 and the total amount is 5346\n",
    "5. Kevin RomanMary Johnson,customer ID is 58828 and the total amount is 5345\r\n",
    "\r\n"
   ]
  },
  {
   "cell_type": "code",
   "execution_count": null,
   "id": "b95cd9f2-f88a-45e2-bfaf-2f3d88050d3b",
   "metadata": {},
   "outputs": [],
   "source": []
  }
 ],
 "metadata": {
  "kernelspec": {
   "display_name": "Python 3 (ipykernel)",
   "language": "python",
   "name": "python3"
  },
  "language_info": {
   "codemirror_mode": {
    "name": "ipython",
    "version": 3
   },
   "file_extension": ".py",
   "mimetype": "text/x-python",
   "name": "python",
   "nbconvert_exporter": "python",
   "pygments_lexer": "ipython3",
   "version": "3.12.4"
  }
 },
 "nbformat": 4,
 "nbformat_minor": 5
}
